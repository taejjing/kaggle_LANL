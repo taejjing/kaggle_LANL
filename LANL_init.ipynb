{
  "nbformat": 4,
  "nbformat_minor": 0,
  "metadata": {
    "colab": {
      "name": "LANL_init.ipynb",
      "version": "0.3.2",
      "provenance": [],
      "collapsed_sections": [],
      "include_colab_link": true
    },
    "kernelspec": {
      "name": "python3",
      "display_name": "Python 3"
    },
    "accelerator": "GPU"
  },
  "cells": [
    {
      "cell_type": "markdown",
      "metadata": {
        "id": "view-in-github",
        "colab_type": "text"
      },
      "source": [
        "<a href=\"https://colab.research.google.com/github/taejjing/kaggle_LANL/blob/master/LANL_init.ipynb\" target=\"_parent\"><img src=\"https://colab.research.google.com/assets/colab-badge.svg\" alt=\"Open In Colab\"/></a>"
      ]
    },
    {
      "cell_type": "code",
      "metadata": {
        "id": "256SBCszjkBQ",
        "colab_type": "code",
        "colab": {}
      },
      "source": [
        "from google.colab import auth\n",
        "auth.authenticate_user()\n",
        "\n",
        "from google.colab import drive\n",
        "drive.mount('/gdrive')"
      ],
      "execution_count": 0,
      "outputs": []
    },
    {
      "cell_type": "code",
      "metadata": {
        "id": "SBaupRPOfWiM",
        "colab_type": "code",
        "colab": {}
      },
      "source": [
        "DATA_DIR = '/content/lanl/'"
      ],
      "execution_count": 0,
      "outputs": []
    },
    {
      "cell_type": "code",
      "metadata": {
        "id": "dJthZq8uj1-L",
        "colab_type": "code",
        "colab": {}
      },
      "source": [
        "! mkdir ~/.kaggle\n",
        "! cp /gdrive/'My Drive'/'Colab Notebooks'/kaggle/kaggle.json ~/.kaggle/kaggle.json\n",
        "! chmod 600 ~/.kaggle/kaggle.json"
      ],
      "execution_count": 0,
      "outputs": []
    },
    {
      "cell_type": "code",
      "metadata": {
        "id": "z00fZteNn8-p",
        "colab_type": "code",
        "outputId": "42a54ed4-32e6-4f10-a604-4bacb4827db3",
        "colab": {
          "base_uri": "https://localhost:8080/",
          "height": 125
        }
      },
      "source": [
        "! kaggle competitions download -c LANL-Earthquake-Prediction -p {DATA_DIR}\n",
        "! ls -l {DATA_DIR}"
      ],
      "execution_count": 0,
      "outputs": [
        {
          "output_type": "stream",
          "text": [
            "100% 2.02G/2.03G [00:21<00:00, 58.5MB/s]\n",
            "100% 2.03G/2.03G [00:21<00:00, 102MB/s] \n",
            "total 2372428\n",
            "-rw-r--r-- 1 root root      34135 May 15 17:17 sample_submission.csv\n",
            "-rw-r--r-- 1 root root  253730367 May 15 17:17 test.zip\n",
            "-rw-r--r-- 1 root root 2175592057 May 15 17:18 train.csv.zip\n"
          ],
          "name": "stdout"
        }
      ]
    },
    {
      "cell_type": "code",
      "metadata": {
        "id": "88KhLr0BgBan",
        "colab_type": "code",
        "outputId": "e4117365-4bcf-4f75-e52c-28d07c9c8866",
        "colab": {
          "base_uri": "https://localhost:8080/",
          "height": 89
        }
      },
      "source": [
        "# ! unzip {DATA_DIR}train.csv.zip -d {DATA_DIR}\n",
        "# ! unzip {DATA_DIR}test.zip -d {DATA_DIR}test\n",
        "! rm -rf {DATA_DIR}*.zip\n",
        "! ls -l {DATA_DIR}"
      ],
      "execution_count": 0,
      "outputs": [
        {
          "output_type": "stream",
          "text": [
            "total 9331728\n",
            "-rw-r--r-- 1 root root      34135 May 15 17:17 sample_submission.csv\n",
            "drwxr-xr-x 2 root root      90112 May 15 17:21 test\n",
            "---------- 1 root root 9555558244 Jan 10 01:12 train.csv\n"
          ],
          "name": "stdout"
        }
      ]
    },
    {
      "cell_type": "markdown",
      "metadata": {
        "id": "qJluTg94fjJB",
        "colab_type": "text"
      },
      "source": [
        "https://github.com/Vettejeep/MSDS696-Masters-Final-Project/blob/master/earthquake_model.ipynb"
      ]
    },
    {
      "cell_type": "code",
      "metadata": {
        "id": "t52qfxKrrhjf",
        "colab_type": "code",
        "colab": {}
      },
      "source": [
        "import os\n",
        "import time\n",
        "import warnings\n",
        "import traceback\n",
        "import numpy as np\n",
        "import pandas as pd\n",
        "from scipy import stats\n",
        "import scipy.signal as sg\n",
        "import multiprocessing as mp\n",
        "from scipy.signal import hann\n",
        "from scipy.signal import hilbert\n",
        "from scipy.signal import convolve\n",
        "from sklearn.linear_model import LinearRegression\n",
        "from sklearn.preprocessing import StandardScaler\n",
        "\n",
        "import xgboost as xgb\n",
        "import lightgbm as lgb\n",
        "from sklearn.model_selection import KFold\n",
        "from sklearn.metrics import mean_squared_error\n",
        "from sklearn.metrics import mean_absolute_error\n",
        "\n",
        "from tqdm import tqdm\n",
        "warnings.filterwarnings(\"ignore\")"
      ],
      "execution_count": 0,
      "outputs": []
    },
    {
      "cell_type": "code",
      "metadata": {
        "id": "DSbLNeIwrhnp",
        "colab_type": "code",
        "colab": {}
      },
      "source": [
        "SIG_LEN = 150000\n",
        "NUM_SEG_PER_PROC = 4000\n",
        "NUM_THREADS = 6\n",
        "\n",
        "NY_FREQ_IDX = 75000  # the test signals are 150k samples long, Nyquist is thus 75k.\n",
        "CUTOFF = 18000\n",
        "MAX_FREQ_IDX = 20000\n",
        "FREQ_STEP = 2500\n",
        "\n",
        "TRAIN_DIR = os.path.join(DATA_DIR, 'train')\n",
        "if not os.path.isdir(TRAIN_DIR) :\n",
        "    os.mkdir(TRAIN_DIR)\n",
        "TRAIN_LEN = 629145480"
      ],
      "execution_count": 0,
      "outputs": []
    },
    {
      "cell_type": "code",
      "metadata": {
        "id": "GggcADFirhpu",
        "colab_type": "code",
        "colab": {}
      },
      "source": [
        "def split_raw_data():\n",
        "    max_start_index = TRAIN_LEN - SIG_LEN\n",
        "    slice_len = max_start_index // 6\n",
        "    \n",
        "    for i, chunk in enumerate(pd.read_csv(os.path.join(DATA_DIR, 'train.csv'), chunksize=slice_len)):\n",
        "        print('working', i)\n",
        "        chunk.to_csv(os.path.join(OUTPUT_DIR, 'raw_data_%d.csv' % i), index=False)"
      ],
      "execution_count": 0,
      "outputs": []
    },
    {
      "cell_type": "code",
      "metadata": {
        "id": "SinsMtXKrhr2",
        "colab_type": "code",
        "outputId": "b1e3bd1e-536d-4baa-cd14-9afdfa682eb4",
        "colab": {
          "base_uri": "https://localhost:8080/",
          "height": 161
        }
      },
      "source": [
        "start = time.time()\n",
        "\n",
        "split_raw_data()\n",
        "\n",
        "print(\"{}s\".format(time.time() - start))"
      ],
      "execution_count": 0,
      "outputs": [
        {
          "output_type": "stream",
          "text": [
            "working 0\n",
            "working 1\n",
            "working 2\n",
            "working 3\n",
            "working 4\n",
            "working 5\n",
            "working 6\n",
            "{}s 452.410790681839\n"
          ],
          "name": "stdout"
        }
      ]
    },
    {
      "cell_type": "code",
      "metadata": {
        "id": "ea6-jfDyrhuK",
        "colab_type": "code",
        "colab": {}
      },
      "source": [
        ""
      ],
      "execution_count": 0,
      "outputs": []
    },
    {
      "cell_type": "code",
      "metadata": {
        "id": "-ZdB8UL0rhwU",
        "colab_type": "code",
        "colab": {}
      },
      "source": [
        ""
      ],
      "execution_count": 0,
      "outputs": []
    },
    {
      "cell_type": "code",
      "metadata": {
        "id": "as53kTV5rhyy",
        "colab_type": "code",
        "colab": {}
      },
      "source": [
        ""
      ],
      "execution_count": 0,
      "outputs": []
    },
    {
      "cell_type": "code",
      "metadata": {
        "id": "QWch7F_drh1G",
        "colab_type": "code",
        "colab": {}
      },
      "source": [
        ""
      ],
      "execution_count": 0,
      "outputs": []
    },
    {
      "cell_type": "code",
      "metadata": {
        "id": "FoO5-S6trh3f",
        "colab_type": "code",
        "colab": {}
      },
      "source": [
        ""
      ],
      "execution_count": 0,
      "outputs": []
    },
    {
      "cell_type": "code",
      "metadata": {
        "id": "ICldvpDmrh57",
        "colab_type": "code",
        "colab": {}
      },
      "source": [
        ""
      ],
      "execution_count": 0,
      "outputs": []
    },
    {
      "cell_type": "code",
      "metadata": {
        "id": "byZyz_iVrcqh",
        "colab_type": "code",
        "colab": {}
      },
      "source": [
        ""
      ],
      "execution_count": 0,
      "outputs": []
    },
    {
      "cell_type": "code",
      "metadata": {
        "id": "9XZmC8fcreFg",
        "colab_type": "code",
        "colab": {}
      },
      "source": [
        ""
      ],
      "execution_count": 0,
      "outputs": []
    },
    {
      "cell_type": "code",
      "metadata": {
        "id": "bETroHi3reHe",
        "colab_type": "code",
        "colab": {}
      },
      "source": [
        ""
      ],
      "execution_count": 0,
      "outputs": []
    },
    {
      "cell_type": "code",
      "metadata": {
        "id": "DbgJMLZereJv",
        "colab_type": "code",
        "colab": {}
      },
      "source": [
        ""
      ],
      "execution_count": 0,
      "outputs": []
    },
    {
      "cell_type": "code",
      "metadata": {
        "id": "AJmSVzHgreL2",
        "colab_type": "code",
        "colab": {}
      },
      "source": [
        ""
      ],
      "execution_count": 0,
      "outputs": []
    },
    {
      "cell_type": "code",
      "metadata": {
        "id": "eZafZBiyreN3",
        "colab_type": "code",
        "colab": {}
      },
      "source": [
        ""
      ],
      "execution_count": 0,
      "outputs": []
    },
    {
      "cell_type": "code",
      "metadata": {
        "id": "nTTHYaXRrePy",
        "colab_type": "code",
        "colab": {}
      },
      "source": [
        ""
      ],
      "execution_count": 0,
      "outputs": []
    },
    {
      "cell_type": "code",
      "metadata": {
        "id": "tCQA6wlKreRy",
        "colab_type": "code",
        "colab": {}
      },
      "source": [
        ""
      ],
      "execution_count": 0,
      "outputs": []
    },
    {
      "cell_type": "code",
      "metadata": {
        "id": "PscfxJvLreTv",
        "colab_type": "code",
        "colab": {}
      },
      "source": [
        ""
      ],
      "execution_count": 0,
      "outputs": []
    },
    {
      "cell_type": "code",
      "metadata": {
        "id": "1-jHBcMEreVy",
        "colab_type": "code",
        "colab": {}
      },
      "source": [
        ""
      ],
      "execution_count": 0,
      "outputs": []
    },
    {
      "cell_type": "code",
      "metadata": {
        "id": "WzOXYcWpreX2",
        "colab_type": "code",
        "colab": {}
      },
      "source": [
        ""
      ],
      "execution_count": 0,
      "outputs": []
    },
    {
      "cell_type": "code",
      "metadata": {
        "id": "4f8En281reZl",
        "colab_type": "code",
        "colab": {}
      },
      "source": [
        ""
      ],
      "execution_count": 0,
      "outputs": []
    }
  ]
}